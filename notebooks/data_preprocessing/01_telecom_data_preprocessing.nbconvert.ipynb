{
 "cells": [
  {
   "cell_type": "markdown",
   "metadata": {},
   "source": [
    "# Telecom Customer Data Preprocessing\n",
    "## AI Customer Upsell Prediction System\n",
    "\n",
    "This notebook handles:\n",
    "- Data loading and cleaning\n",
    "- Duplicate removal\n",
    "- Missing value treatment\n",
    "- Feature engineering (43 advanced features)\n",
    "- Data quality assessment"
   ]
  },
  {
   "cell_type": "code",
   "execution_count": 1,
   "metadata": {
    "execution": {
     "iopub.execute_input": "2025-08-30T15:44:29.988315Z",
     "iopub.status.busy": "2025-08-30T15:44:29.987928Z",
     "iopub.status.idle": "2025-08-30T15:44:31.417668Z",
     "shell.execute_reply": "2025-08-30T15:44:31.416952Z"
    }
   },
   "outputs": [
    {
     "name": "stderr",
     "output_type": "stream",
     "text": [
      "/home/reddy007/.local/lib/python3.10/site-packages/matplotlib/projections/__init__.py:63: UserWarning: Unable to import Axes3D. This may be due to multiple versions of Matplotlib being installed (e.g. as a system package and as a pip package). As a result, the 3D projection is not available.\n",
      "  warnings.warn(\"Unable to import Axes3D. This may be due to multiple versions of \"\n",
      "/usr/lib/python3/dist-packages/scipy/__init__.py:146: UserWarning: A NumPy version >=1.17.3 and <1.25.0 is required for this version of SciPy (detected version 1.26.4\n",
      "  warnings.warn(f\"A NumPy version >={np_minversion} and <{np_maxversion}\"\n"
     ]
    }
   ],
   "source": [
    "# Import required libraries\n",
    "import pandas as pd\n",
    "import numpy as np\n",
    "import matplotlib.pyplot as plt\n",
    "import seaborn as sns\n",
    "from sklearn.preprocessing import StandardScaler, LabelEncoder\n",
    "from sklearn.decomposition import PCA\n",
    "from sklearn.ensemble import IsolationForest\n",
    "import warnings\n",
    "warnings.filterwarnings('ignore')\n",
    "\n",
    "# Set display options\n",
    "pd.set_option('display.max_columns', None)\n",
    "pd.set_option('display.width', None)\n",
    "plt.style.use('seaborn-v0_8')\n",
    "sns.set_palette('viridis')"
   ]
  },
  {
   "cell_type": "code",
   "execution_count": 2,
   "metadata": {
    "execution": {
     "iopub.execute_input": "2025-08-30T15:44:31.419372Z",
     "iopub.status.busy": "2025-08-30T15:44:31.419169Z",
     "iopub.status.idle": "2025-08-30T15:44:31.932758Z",
     "shell.execute_reply": "2025-08-30T15:44:31.932114Z"
    }
   },
   "outputs": [
    {
     "name": "stdout",
     "output_type": "stream",
     "text": [
      "📊 Loading Telecom Customer Dataset...\n"
     ]
    },
    {
     "name": "stdout",
     "output_type": "stream",
     "text": [
      "Dataset Shape: (101174, 17)\n",
      "Columns: ['Phone Number', 'Account Length', 'VMail Message', 'Day Mins', 'Day Calls', 'Day Charge', 'Eve Mins', 'Eve Calls', 'Eve Charge', 'Night Mins', 'Night Calls', 'Night Charge', 'Intl Mins', 'Intl Calls', 'Intl Charge', 'CustServ Calls', 'Churn']\n",
      "\n",
      "📋 First 5 rows:\n"
     ]
    },
    {
     "data": {
      "text/html": [
       "<div>\n",
       "<style scoped>\n",
       "    .dataframe tbody tr th:only-of-type {\n",
       "        vertical-align: middle;\n",
       "    }\n",
       "\n",
       "    .dataframe tbody tr th {\n",
       "        vertical-align: top;\n",
       "    }\n",
       "\n",
       "    .dataframe thead th {\n",
       "        text-align: right;\n",
       "    }\n",
       "</style>\n",
       "<table border=\"1\" class=\"dataframe\">\n",
       "  <thead>\n",
       "    <tr style=\"text-align: right;\">\n",
       "      <th></th>\n",
       "      <th>Phone Number</th>\n",
       "      <th>Account Length</th>\n",
       "      <th>VMail Message</th>\n",
       "      <th>Day Mins</th>\n",
       "      <th>Day Calls</th>\n",
       "      <th>Day Charge</th>\n",
       "      <th>Eve Mins</th>\n",
       "      <th>Eve Calls</th>\n",
       "      <th>Eve Charge</th>\n",
       "      <th>Night Mins</th>\n",
       "      <th>Night Calls</th>\n",
       "      <th>Night Charge</th>\n",
       "      <th>Intl Mins</th>\n",
       "      <th>Intl Calls</th>\n",
       "      <th>Intl Charge</th>\n",
       "      <th>CustServ Calls</th>\n",
       "      <th>Churn</th>\n",
       "    </tr>\n",
       "  </thead>\n",
       "  <tbody>\n",
       "    <tr>\n",
       "      <th>0</th>\n",
       "      <td>382-4657</td>\n",
       "      <td>128</td>\n",
       "      <td>25</td>\n",
       "      <td>265.1</td>\n",
       "      <td>110</td>\n",
       "      <td>45.07</td>\n",
       "      <td>197.4</td>\n",
       "      <td>99</td>\n",
       "      <td>16.78</td>\n",
       "      <td>244.7</td>\n",
       "      <td>91</td>\n",
       "      <td>11.01</td>\n",
       "      <td>10.0</td>\n",
       "      <td>3</td>\n",
       "      <td>2.70</td>\n",
       "      <td>1</td>\n",
       "      <td>False</td>\n",
       "    </tr>\n",
       "    <tr>\n",
       "      <th>1</th>\n",
       "      <td>371-7191</td>\n",
       "      <td>107</td>\n",
       "      <td>26</td>\n",
       "      <td>161.6</td>\n",
       "      <td>123</td>\n",
       "      <td>27.47</td>\n",
       "      <td>195.5</td>\n",
       "      <td>103</td>\n",
       "      <td>16.62</td>\n",
       "      <td>254.4</td>\n",
       "      <td>103</td>\n",
       "      <td>11.45</td>\n",
       "      <td>13.7</td>\n",
       "      <td>3</td>\n",
       "      <td>3.70</td>\n",
       "      <td>1</td>\n",
       "      <td>False</td>\n",
       "    </tr>\n",
       "    <tr>\n",
       "      <th>2</th>\n",
       "      <td>358-1921</td>\n",
       "      <td>137</td>\n",
       "      <td>0</td>\n",
       "      <td>243.4</td>\n",
       "      <td>114</td>\n",
       "      <td>41.38</td>\n",
       "      <td>121.2</td>\n",
       "      <td>110</td>\n",
       "      <td>10.30</td>\n",
       "      <td>162.6</td>\n",
       "      <td>104</td>\n",
       "      <td>7.32</td>\n",
       "      <td>12.2</td>\n",
       "      <td>5</td>\n",
       "      <td>3.29</td>\n",
       "      <td>0</td>\n",
       "      <td>False</td>\n",
       "    </tr>\n",
       "    <tr>\n",
       "      <th>3</th>\n",
       "      <td>375-9999</td>\n",
       "      <td>84</td>\n",
       "      <td>0</td>\n",
       "      <td>299.4</td>\n",
       "      <td>71</td>\n",
       "      <td>50.90</td>\n",
       "      <td>61.9</td>\n",
       "      <td>88</td>\n",
       "      <td>5.26</td>\n",
       "      <td>196.9</td>\n",
       "      <td>89</td>\n",
       "      <td>8.86</td>\n",
       "      <td>6.6</td>\n",
       "      <td>7</td>\n",
       "      <td>1.78</td>\n",
       "      <td>2</td>\n",
       "      <td>False</td>\n",
       "    </tr>\n",
       "    <tr>\n",
       "      <th>4</th>\n",
       "      <td>330-6626</td>\n",
       "      <td>75</td>\n",
       "      <td>0</td>\n",
       "      <td>166.7</td>\n",
       "      <td>113</td>\n",
       "      <td>28.34</td>\n",
       "      <td>148.3</td>\n",
       "      <td>122</td>\n",
       "      <td>12.61</td>\n",
       "      <td>186.9</td>\n",
       "      <td>121</td>\n",
       "      <td>8.41</td>\n",
       "      <td>10.1</td>\n",
       "      <td>3</td>\n",
       "      <td>2.73</td>\n",
       "      <td>3</td>\n",
       "      <td>False</td>\n",
       "    </tr>\n",
       "  </tbody>\n",
       "</table>\n",
       "</div>"
      ],
      "text/plain": [
       "  Phone Number  Account Length  VMail Message  Day Mins  Day Calls  \\\n",
       "0     382-4657             128             25     265.1        110   \n",
       "1     371-7191             107             26     161.6        123   \n",
       "2     358-1921             137              0     243.4        114   \n",
       "3     375-9999              84              0     299.4         71   \n",
       "4     330-6626              75              0     166.7        113   \n",
       "\n",
       "   Day Charge  Eve Mins  Eve Calls  Eve Charge  Night Mins  Night Calls  \\\n",
       "0       45.07     197.4         99       16.78       244.7           91   \n",
       "1       27.47     195.5        103       16.62       254.4          103   \n",
       "2       41.38     121.2        110       10.30       162.6          104   \n",
       "3       50.90      61.9         88        5.26       196.9           89   \n",
       "4       28.34     148.3        122       12.61       186.9          121   \n",
       "\n",
       "   Night Charge  Intl Mins  Intl Calls  Intl Charge  CustServ Calls  Churn  \n",
       "0         11.01       10.0           3         2.70               1  False  \n",
       "1         11.45       13.7           3         3.70               1  False  \n",
       "2          7.32       12.2           5         3.29               0  False  \n",
       "3          8.86        6.6           7         1.78               2  False  \n",
       "4          8.41       10.1           3         2.73               3  False  "
      ]
     },
     "execution_count": 2,
     "metadata": {},
     "output_type": "execute_result"
    }
   ],
   "source": [
    "# Load the telecom dataset\n",
    "print(\"📊 Loading Telecom Customer Dataset...\")\n",
    "df_raw = pd.read_csv('../data/raw/telecom_data.csv')\n",
    "\n",
    "print(f\"Dataset Shape: {df_raw.shape}\")\n",
    "print(f\"Columns: {list(df_raw.columns)}\")\n",
    "print(\"\\n📋 First 5 rows:\")\n",
    "df_raw.head()"
   ]
  },
  {
   "cell_type": "code",
   "execution_count": 3,
   "metadata": {
    "execution": {
     "iopub.execute_input": "2025-08-30T15:44:31.934660Z",
     "iopub.status.busy": "2025-08-30T15:44:31.934495Z",
     "iopub.status.idle": "2025-08-30T15:44:32.011883Z",
     "shell.execute_reply": "2025-08-30T15:44:32.011269Z"
    }
   },
   "outputs": [
    {
     "name": "stdout",
     "output_type": "stream",
     "text": [
      "🔍 Data Quality Assessment\n",
      "==================================================\n",
      "Total Records: 101,174\n",
      "Total Features: 17\n",
      "Memory Usage: 17.95 MB\n",
      "\n",
      "📊 Data Types:\n",
      "float64    8\n",
      "int64      7\n",
      "object     1\n",
      "bool       1\n",
      "Name: count, dtype: int64\n",
      "\n",
      "❌ Missing Values:\n",
      "Empty DataFrame\n",
      "Columns: [Missing Count, Missing Percentage]\n",
      "Index: []\n",
      "\n",
      "🔄 Duplicate Records: 40,729 (40.26%)\n"
     ]
    }
   ],
   "source": [
    "# Data Quality Assessment\n",
    "print(\"🔍 Data Quality Assessment\")\n",
    "print(\"=\"*50)\n",
    "\n",
    "# Basic info\n",
    "print(f\"Total Records: {len(df_raw):,}\")\n",
    "print(f\"Total Features: {df_raw.shape[1]}\")\n",
    "print(f\"Memory Usage: {df_raw.memory_usage(deep=True).sum() / 1024**2:.2f} MB\")\n",
    "\n",
    "# Data types\n",
    "print(\"\\n📊 Data Types:\")\n",
    "print(df_raw.dtypes.value_counts())\n",
    "\n",
    "# Missing values\n",
    "print(\"\\n❌ Missing Values:\")\n",
    "missing_data = df_raw.isnull().sum()\n",
    "missing_percent = (missing_data / len(df_raw)) * 100\n",
    "missing_df = pd.DataFrame({\n",
    "    'Missing Count': missing_data,\n",
    "    'Missing Percentage': missing_percent\n",
    "})\n",
    "print(missing_df[missing_df['Missing Count'] > 0])\n",
    "\n",
    "# Duplicates\n",
    "duplicates = df_raw.duplicated().sum()\n",
    "print(f\"\\n🔄 Duplicate Records: {duplicates:,} ({duplicates/len(df_raw)*100:.2f}%)\")"
   ]
  },
  {
   "cell_type": "code",
   "execution_count": 4,
   "metadata": {
    "execution": {
     "iopub.execute_input": "2025-08-30T15:44:32.013586Z",
     "iopub.status.busy": "2025-08-30T15:44:32.013450Z",
     "iopub.status.idle": "2025-08-30T15:44:32.047948Z",
     "shell.execute_reply": "2025-08-30T15:44:32.047336Z"
    }
   },
   "outputs": [
    {
     "name": "stdout",
     "output_type": "stream",
     "text": [
      "🧹 Starting Data Cleaning Process...\n",
      "Before duplicate removal: 101,174 records\n",
      "After duplicate removal: 60,445 records\n",
      "Removed: 40,729 duplicates\n",
      "Churn rate: 0.110\n",
      "\n",
      "✅ Data cleaning completed!\n"
     ]
    }
   ],
   "source": [
    "# Data Cleaning Process\n",
    "print(\"🧹 Starting Data Cleaning Process...\")\n",
    "df_clean = df_raw.copy()\n",
    "\n",
    "# Remove duplicates\n",
    "print(f\"Before duplicate removal: {len(df_clean):,} records\")\n",
    "df_clean = df_clean.drop_duplicates()\n",
    "print(f\"After duplicate removal: {len(df_clean):,} records\")\n",
    "print(f\"Removed: {len(df_raw) - len(df_clean):,} duplicates\")\n",
    "\n",
    "# Handle missing values\n",
    "numeric_columns = df_clean.select_dtypes(include=[np.number]).columns\n",
    "for col in numeric_columns:\n",
    "    if df_clean[col].isnull().sum() > 0:\n",
    "        median_val = df_clean[col].median()\n",
    "        df_clean[col].fillna(median_val, inplace=True)\n",
    "        print(f\"Filled {col} missing values with median: {median_val}\")\n",
    "\n",
    "# Convert Churn to binary\n",
    "if 'Churn' in df_clean.columns:\n",
    "    df_clean['Churn_Binary'] = df_clean['Churn'].map({\n",
    "        'FALSE': 0, 'True': 1, False: 0, True: 1\n",
    "    })\n",
    "    df_clean['Churn_Binary'] = df_clean['Churn_Binary'].fillna(0).astype(int)\n",
    "    print(f\"Churn rate: {df_clean['Churn_Binary'].mean():.3f}\")\n",
    "\n",
    "print(\"\\n✅ Data cleaning completed!\")"
   ]
  },
  {
   "cell_type": "code",
   "execution_count": 5,
   "metadata": {
    "execution": {
     "iopub.execute_input": "2025-08-30T15:44:32.049533Z",
     "iopub.status.busy": "2025-08-30T15:44:32.049399Z",
     "iopub.status.idle": "2025-08-30T15:44:32.083440Z",
     "shell.execute_reply": "2025-08-30T15:44:32.082753Z"
    }
   },
   "outputs": [
    {
     "name": "stdout",
     "output_type": "stream",
     "text": [
      "🔧 Engineering Advanced Features...\n",
      "Re-confirmed df_features are duplicate-free: 60,445 records\n",
      "✅ Created 19 new features\n",
      "Total features now: 37\n"
     ]
    }
   ],
   "source": [
    "# Advanced Feature Engineering\n",
    "print(\"🔧 Engineering Advanced Features...\")\n",
    "df_features = df_clean.copy() # df_features is now correctly based on df_clean (which is duplicate-free)\n",
    "\n",
    "# --- CRUCIAL ADDITION: Re-confirm df_features is duplicate-free --- \n",
    "df_features = df_features.drop_duplicates()\n",
    "print(f\"Re-confirmed df_features are duplicate-free: {len(df_features):,} records\")\n",
    "# --- END ADDITION --- \n",
    "\n",
    "# Usage Aggregation Features\n",
    "df_features['Total_Minutes'] = (df_features['Day Mins'] + df_features['Eve Mins'] + \n",
    "                               df_features['Night Mins'] + df_features['Intl Mins'])\n",
    "df_features['Total_Calls'] = (df_features['Day Calls'] + df_features['Eve Calls'] + \n",
    "                             df_features['Night Calls'] + df_features['Intl Calls'])\n",
    "df_features['Total_Charges'] = (df_features['Day Charge'] + df_features['Eve Charge'] + \n",
    "                               df_features['Night Charge'] + df_features['Intl Charge'])\n",
    "\n",
    "# Usage Intensity Features\n",
    "df_features['Avg_Call_Duration'] = df_features['Total_Minutes'] / (df_features['Total_Calls'] + 1e-6)\n",
    "df_features['Day_Call_Duration'] = df_features['Day Mins'] / (df_features['Day Calls'] + 1e-6)\n",
    "df_features['Eve_Call_Duration'] = df_features['Eve Mins'] / (df_features['Eve Calls'] + 1e-6)\n",
    "df_features['Night_Call_Duration'] = df_features['Night Mins'] / (df_features['Night Calls'] + 1e-6)\n",
    "\n",
    "# Usage Pattern Ratios\n",
    "df_features['Day_Usage_Ratio'] = df_features['Day Mins'] / (df_features['Total_Minutes'] + 1e-6)\n",
    "df_features['Eve_Usage_Ratio'] = df_features['Eve Mins'] / (df_features['Total_Minutes'] + 1e-6)\n",
    "df_features['Night_Usage_Ratio'] = df_features['Night Mins'] / (df_features['Total_Minutes'] + 1e-6)\n",
    "df_features['Intl_Usage_Ratio'] = df_features['Intl Mins'] / (df_features['Total_Minutes'] + 1e-6)\n",
    "\n",
    "# Revenue-Based Features\n",
    "df_features['Revenue_Per_Minute'] = df_features['Total_Charges'] / (df_features['Total_Minutes'] + 1e-6)\n",
    "df_features['Day_Revenue_Rate'] = df_features['Day Charge'] / (df_features['Day Mins'] + 1e-6)\n",
    "df_features['Eve_Revenue_Rate'] = df_features['Eve Charge'] / (df_features['Eve Mins'] + 1e-6)\n",
    "df_features['Night_Revenue_Rate'] = df_features['Night Charge'] / (df_features['Night Mins'] + 1e-6)\n",
    "\n",
    "# Customer Lifecycle Features\n",
    "df_features['Account_Length_Months'] = df_features['Account Length'] / 30.0\n",
    "df_features['Usage_Per_Day'] = df_features['Total_Minutes'] / (df_features['Account Length'] + 1)\n",
    "df_features['Revenue_Per_Day'] = df_features['Total_Charges'] / (df_features['Account Length'] + 1)\n",
    "df_features['Service_Calls_Per_Month'] = df_features['CustServ Calls'] / (df_features['Account_Length_Months'] + 1e-6)\n",
    "\n",
    "print(f\"✅ Created {df_features.shape[1] - df_clean.shape[1]} new features\")\n",
    "print(f\"Total features now: {df_features.shape[1]}\")"
   ]
  },
  {
   "cell_type": "code",
   "execution_count": 6,
   "metadata": {
    "execution": {
     "iopub.execute_input": "2025-08-30T15:44:32.085236Z",
     "iopub.status.busy": "2025-08-30T15:44:32.085039Z",
     "iopub.status.idle": "2025-08-30T15:44:32.104024Z",
     "shell.execute_reply": "2025-08-30T15:44:32.103398Z"
    }
   },
   "outputs": [
    {
     "name": "stdout",
     "output_type": "stream",
     "text": [
      "🎯 Creating Behavioral Indicators...\n",
      "✅ Total features after engineering: 47\n"
     ]
    }
   ],
   "source": [
    "# Behavioral Indicators (Binary Flags)\n",
    "print(\"🎯 Creating Behavioral Indicators...\")\n",
    "\n",
    "df_features['Is_Heavy_Day_User'] = (df_features['Day Mins'] > df_features['Day Mins'].quantile(0.75)).astype(int)\n",
    "df_features['Is_Heavy_Eve_User'] = (df_features['Eve Mins'] > df_features['Eve Mins'].quantile(0.75)).astype(int)\n",
    "df_features['Is_Heavy_Night_User'] = (df_features['Night Mins'] > df_features['Night Mins'].quantile(0.75)).astype(int)\n",
    "df_features['Is_Intl_User'] = (df_features['Intl Mins'] > 0).astype(int)\n",
    "df_features['Is_High_Service_User'] = (df_features['CustServ Calls'] > 2).astype(int)\n",
    "df_features['Has_Voicemail'] = (df_features['VMail Message'] > 0).astype(int)\n",
    "df_features['Is_High_Value_Customer'] = (df_features['Total_Charges'] > df_features['Total_Charges'].quantile(0.8)).astype(int)\n",
    "\n",
    "# Risk Indicators\n",
    "df_features['Churn_Risk_Score'] = (\n",
    "    df_features['CustServ Calls'] * 0.4 +\n",
    "    (df_features['Total_Minutes'] < df_features['Total_Minutes'].quantile(0.25)) * 0.3 +\n",
    "    (df_features['Account Length'] < 100) * 0.3\n",
    ")\n",
    "\n",
    "# Customer value segments\n",
    "df_features['Customer_Value_Score'] = (\n",
    "    df_features['Total_Charges'] * 0.4 +\n",
    "    df_features['Account Length'] * 0.3 +\n",
    "    df_features['Total_Minutes'] * 0.3\n",
    ")\n",
    "\n",
    "# Engagement metrics\n",
    "df_features['Engagement_Score'] = (\n",
    "    df_features['Has_Voicemail'] * 0.2 +\n",
    "    df_features['Is_Intl_User'] * 0.3 +\n",
    "    (df_features['CustServ Calls'] == 0) * 0.5\n",
    ")\n",
    "\n",
    "print(f\"✅ Total features after engineering: {df_features.shape[1]}\")"
   ]
  },
  {
   "cell_type": "code",
   "execution_count": 7,
   "metadata": {
    "execution": {
     "iopub.execute_input": "2025-08-30T15:44:32.105836Z",
     "iopub.status.busy": "2025-08-30T15:44:32.105663Z",
     "iopub.status.idle": "2025-08-30T15:44:32.109398Z",
     "shell.execute_reply": "2025-08-30T15:44:32.108690Z"
    }
   },
   "outputs": [
    {
     "name": "stdout",
     "output_type": "stream",
     "text": [
      "📊 Feature Engineering Summary\n",
      "==================================================\n",
      "Original Features: 17 features\n",
      "Usage Aggregation: 3 features\n",
      "Usage Intensity: 4 features\n",
      "Usage Patterns: 4 features\n",
      "Revenue Features: 4 features\n",
      "Lifecycle Features: 4 features\n",
      "Behavioral Flags: 7 features\n",
      "Risk Indicators: 1 features\n",
      "Value Scores: 2 features\n",
      "Engagement Metrics: 1 features\n",
      "\n",
      "Total Engineered Features: 47\n",
      "Actual DataFrame Shape: (60445, 47)\n"
     ]
    }
   ],
   "source": [
    "# Feature Summary\n",
    "print(\"📊 Feature Engineering Summary\")\n",
    "print(\"=\"*50)\n",
    "\n",
    "feature_categories = {\n",
    "    'Original Features': 17,\n",
    "    'Usage Aggregation': 3,\n",
    "    'Usage Intensity': 4, \n",
    "    'Usage Patterns': 4,\n",
    "    'Revenue Features': 4,\n",
    "    'Lifecycle Features': 4,\n",
    "    'Behavioral Flags': 7,\n",
    "    'Risk Indicators': 1,\n",
    "    'Value Scores': 2,\n",
    "    'Engagement Metrics': 1\n",
    "}\n",
    "\n",
    "for category, count in feature_categories.items():\n",
    "    print(f\"{category}: {count} features\")\n",
    "\n",
    "print(f\"\\nTotal Engineered Features: {sum(feature_categories.values())}\")\n",
    "print(f\"Actual DataFrame Shape: {df_features.shape}\")"
   ]
  },
  {
   "cell_type": "code",
   "execution_count": 8,
   "metadata": {
    "execution": {
     "iopub.execute_input": "2025-08-30T15:44:32.111124Z",
     "iopub.status.busy": "2025-08-30T15:44:32.110950Z",
     "iopub.status.idle": "2025-08-30T15:44:36.016854Z",
     "shell.execute_reply": "2025-08-30T15:44:36.016320Z"
    }
   },
   "outputs": [
    {
     "name": "stdout",
     "output_type": "stream",
     "text": [
      "💾 Saving processed data...\n"
     ]
    },
    {
     "name": "stdout",
     "output_type": "stream",
     "text": [
      "✅ Saved processed dataset: (60445, 47)\n",
      "✅ Saved 47 feature names\n",
      "\n",
      "🎉 Data preprocessing completed successfully!\n"
     ]
    }
   ],
   "source": [
    "# Save processed data\n",
    "print(\"💾 Saving processed data...\")\n",
    "\n",
    "# Create processed directory if it doesn't exist\n",
    "import os\n",
    "os.makedirs('../data/processed', exist_ok=True)\n",
    "\n",
    "# Save the processed dataset\n",
    "df_features.to_csv('../data/processed/telecom_processed.csv', index=False)\n",
    "print(f\"✅ Saved processed dataset: {df_features.shape}\")\n",
    "\n",
    "# Save feature names for ML pipeline\n",
    "feature_names = list(df_features.columns)\n",
    "with open('../data/processed/feature_names.txt', 'w') as f:\n",
    "    for feature in feature_names:\n",
    "        f.write(f\"{feature}\\n\")\n",
    "\n",
    "print(f\"✅ Saved {len(feature_names)} feature names\")\n",
    "print(\"\\n🎉 Data preprocessing completed successfully!\")"
   ]
  },
  {
   "cell_type": "code",
   "execution_count": null,
   "metadata": {},
   "outputs": [],
   "source": []
  },
  {
   "cell_type": "code",
   "execution_count": null,
   "metadata": {},
   "outputs": [],
   "source": []
  },
  {
   "cell_type": "code",
   "execution_count": null,
   "metadata": {},
   "outputs": [],
   "source": []
  },
  {
   "cell_type": "code",
   "execution_count": null,
   "metadata": {},
   "outputs": [],
   "source": []
  },
  {
   "cell_type": "code",
   "execution_count": null,
   "metadata": {},
   "outputs": [],
   "source": []
  }
 ],
 "metadata": {
  "kernelspec": {
   "display_name": "Python 3 (ipykernel)",
   "language": "python",
   "name": "python3"
  },
  "language_info": {
   "codemirror_mode": {
    "name": "ipython",
    "version": 3
   },
   "file_extension": ".py",
   "mimetype": "text/x-python",
   "name": "python",
   "nbconvert_exporter": "python",
   "pygments_lexer": "ipython3",
   "version": "3.10.12"
  }
 },
 "nbformat": 4,
 "nbformat_minor": 4
}
