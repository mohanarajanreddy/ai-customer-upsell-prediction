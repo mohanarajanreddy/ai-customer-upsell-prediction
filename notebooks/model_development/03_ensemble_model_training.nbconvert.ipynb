{
 "cells": [
  {
   "cell_type": "markdown",
   "metadata": {},
   "source": [
    "# Ensemble Model Training for Upsell Prediction\n",
    "## AI Customer Upsell Prediction System\n",
    "\n",
    "This notebook implements:\n",
    "- Multiple ML algorithms (XGBoost, LightGBM, Random Forest, Neural Networks)\n",
    "- GPU-accelerated training\n",
    "- Ensemble model creation\n",
    "- Model evaluation and comparison\n",
    "- Feature importance analysis\n",
    "- Model persistence"
   ]
  },
  {
   "cell_type": "code",
   "execution_count": 1,
   "metadata": {
    "execution": {
     "iopub.execute_input": "2025-08-30T15:54:01.796872Z",
     "iopub.status.busy": "2025-08-30T15:54:01.796592Z",
     "iopub.status.idle": "2025-08-30T15:54:02.586052Z",
     "shell.execute_reply": "2025-08-30T15:54:02.584433Z"
    }
   },
   "outputs": [
    {
     "name": "stdout",
     "output_type": "stream",
     "text": [
      "Defaulting to user installation because normal site-packages is not writeable\r\n"
     ]
    },
    {
     "name": "stdout",
     "output_type": "stream",
     "text": [
      "Requirement already satisfied: lightgbm in /home/reddy007/.local/lib/python3.10/site-packages (4.6.0)\r\n",
      "Requirement already satisfied: numpy>=1.17.0 in /home/reddy007/.local/lib/python3.10/site-packages (from lightgbm) (1.26.4)\r\n",
      "Requirement already satisfied: scipy in /usr/lib/python3/dist-packages (from lightgbm) (1.8.0)\r\n"
     ]
    },
    {
     "name": "stdout",
     "output_type": "stream",
     "text": [
      "Note: you may need to restart the kernel to use updated packages.\n"
     ]
    }
   ],
   "source": [
    "pip install lightgbm"
   ]
  },
  {
   "cell_type": "code",
   "execution_count": 2,
   "metadata": {
    "execution": {
     "iopub.execute_input": "2025-08-30T15:54:02.589709Z",
     "iopub.status.busy": "2025-08-30T15:54:02.589284Z",
     "iopub.status.idle": "2025-08-30T15:54:03.422978Z",
     "shell.execute_reply": "2025-08-30T15:54:03.420760Z"
    }
   },
   "outputs": [
    {
     "name": "stdout",
     "output_type": "stream",
     "text": [
      "Defaulting to user installation because normal site-packages is not writeable\r\n"
     ]
    },
    {
     "name": "stdout",
     "output_type": "stream",
     "text": [
      "Requirement already satisfied: xgboost in /home/reddy007/.local/lib/python3.10/site-packages (3.0.4)\r\n",
      "Requirement already satisfied: numpy in /home/reddy007/.local/lib/python3.10/site-packages (from xgboost) (1.26.4)\r\n",
      "Requirement already satisfied: nvidia-nccl-cu12 in /home/reddy007/.local/lib/python3.10/site-packages (from xgboost) (2.27.7)\r\n",
      "Requirement already satisfied: scipy in /usr/lib/python3/dist-packages (from xgboost) (1.8.0)\r\n"
     ]
    },
    {
     "name": "stdout",
     "output_type": "stream",
     "text": [
      "Note: you may need to restart the kernel to use updated packages.\n"
     ]
    }
   ],
   "source": [
    "pip install xgboost"
   ]
  },
  {
   "cell_type": "code",
   "execution_count": 3,
   "metadata": {
    "execution": {
     "iopub.execute_input": "2025-08-30T15:54:03.428860Z",
     "iopub.status.busy": "2025-08-30T15:54:03.428151Z",
     "iopub.status.idle": "2025-08-30T15:54:04.330182Z",
     "shell.execute_reply": "2025-08-30T15:54:04.329450Z"
    }
   },
   "outputs": [
    {
     "name": "stderr",
     "output_type": "stream",
     "text": [
      "/home/reddy007/.local/lib/python3.10/site-packages/matplotlib/projections/__init__.py:63: UserWarning: Unable to import Axes3D. This may be due to multiple versions of Matplotlib being installed (e.g. as a system package and as a pip package). As a result, the 3D projection is not available.\n",
      "  warnings.warn(\"Unable to import Axes3D. This may be due to multiple versions of \"\n",
      "/usr/lib/python3/dist-packages/scipy/__init__.py:146: UserWarning: A NumPy version >=1.17.3 and <1.25.0 is required for this version of SciPy (detected version 1.26.4\n",
      "  warnings.warn(f\"A NumPy version >={np_minversion} and <{np_maxversion}\"\n"
     ]
    }
   ],
   "source": [
    "# Import required libraries\n",
    "import pandas as pd\n",
    "import numpy as np\n",
    "import matplotlib.pyplot as plt\n",
    "import seaborn as sns\n",
    "import plotly\n",
    "import plotly.express as px\n",
    "import plotly.graph_objects as go\n",
    "\n",
    "# ML libraries\n",
    "import xgboost as xgb\n",
    "import lightgbm as lgb\n",
    "from sklearn.ensemble import RandomForestClassifier, VotingClassifier\n",
    "from sklearn.neural_network import MLPClassifier\n",
    "from sklearn.preprocessing import StandardScaler\n",
    "from sklearn.model_selection import train_test_split, cross_val_score, StratifiedKFold\n",
    "from sklearn.metrics import (\n",
    "    roc_auc_score, accuracy_score, precision_score, recall_score, \n",
    "    f1_score, classification_report, confusion_matrix, roc_curve\n",
    ")\n",
    "import joblib\n",
    "import warnings\n",
    "warnings.filterwarnings('ignore')\n",
    "\n",
    "# Set style\n",
    "plt.style.use('seaborn-v0_8')\n",
    "sns.set_palette('viridis')\n",
    "plt.rcParams['figure.figsize'] = (12, 8)"
   ]
  },
  {
   "cell_type": "code",
   "execution_count": 4,
   "metadata": {
    "execution": {
     "iopub.execute_input": "2025-08-30T15:54:04.332121Z",
     "iopub.status.busy": "2025-08-30T15:54:04.331914Z",
     "iopub.status.idle": "2025-08-30T15:54:05.123588Z",
     "shell.execute_reply": "2025-08-30T15:54:05.123025Z"
    }
   },
   "outputs": [
    {
     "name": "stdout",
     "output_type": "stream",
     "text": [
      "📊 Loading Processed Data for Model Training...\n"
     ]
    },
    {
     "name": "stdout",
     "output_type": "stream",
     "text": [
      "Dataset Shape: (60445, 47)\n",
      "Features: 47\n",
      "Samples: 60,445\n",
      "\n",
      "🎯 Features: 44\n",
      "Target distribution: {0: 53768, 1: 6677}\n",
      "Churn rate: 0.110\n"
     ]
    }
   ],
   "source": [
    "# Load processed data\n",
    "print(\"📊 Loading Processed Data for Model Training...\")\n",
    "df = pd.read_csv('../data/processed/telecom_processed.csv')\n",
    "\n",
    "print(f\"Dataset Shape: {df.shape}\")\n",
    "print(f\"Features: {df.shape[1]}\")\n",
    "print(f\"Samples: {df.shape[0]:,}\")\n",
    "\n",
    "# Prepare features and target\n",
    "feature_columns = [\n",
    "    'Account Length', 'VMail Message', 'Day Mins', 'Day Calls', 'Day Charge',\n",
    "    'Eve Mins', 'Eve Calls', 'Eve Charge', 'Night Mins', 'Night Calls', \n",
    "    'Night Charge', 'Intl Mins', 'Intl Calls', 'Intl Charge', 'CustServ Calls',\n",
    "    'Total_Minutes', 'Total_Calls', 'Total_Charges', 'Avg_Call_Duration',\n",
    "    'Day_Call_Duration', 'Eve_Call_Duration', 'Night_Call_Duration',\n",
    "    'Day_Usage_Ratio', 'Eve_Usage_Ratio', 'Night_Usage_Ratio', 'Intl_Usage_Ratio',\n",
    "    'Revenue_Per_Minute', 'Day_Revenue_Rate', 'Eve_Revenue_Rate', 'Night_Revenue_Rate',\n",
    "    'Account_Length_Months', 'Usage_Per_Day', 'Revenue_Per_Day', 'Service_Calls_Per_Month',\n",
    "    'Is_Heavy_Day_User', 'Is_Heavy_Eve_User', 'Is_Heavy_Night_User', 'Is_Intl_User',\n",
    "    'Is_High_Service_User', 'Has_Voicemail', 'Is_High_Value_Customer', 'Churn_Risk_Score',\n",
    "    'Customer_Value_Score', 'Engagement_Score'\n",
    "]\n",
    "\n",
    "X = df[feature_columns].fillna(0)\n",
    "X = X.replace([np.inf, -np.inf], 0)\n",
    "y = df['Churn_Binary']\n",
    "\n",
    "print(f\"\\n🎯 Features: {X.shape[1]}\")\n",
    "print(f\"Target distribution: {y.value_counts().to_dict()}\")\n",
    "print(f\"Churn rate: {y.mean():.3f}\")"
   ]
  },
  {
   "cell_type": "code",
   "execution_count": 5,
   "metadata": {
    "execution": {
     "iopub.execute_input": "2025-08-30T15:54:05.125374Z",
     "iopub.status.busy": "2025-08-30T15:54:05.125220Z",
     "iopub.status.idle": "2025-08-30T15:54:05.195090Z",
     "shell.execute_reply": "2025-08-30T15:54:05.192491Z"
    }
   },
   "outputs": [
    {
     "name": "stdout",
     "output_type": "stream",
     "text": [
      "🔄 Splitting Data for Training and Testing...\n",
      "Training set: (48356, 44)\n",
      "Test set: (12089, 44)\n",
      "Training churn rate: 0.110\n",
      "Test churn rate: 0.110\n",
      "\n",
      "✅ Data preparation completed!\n"
     ]
    }
   ],
   "source": [
    "# Train-Test Split\n",
    "print(\"🔄 Splitting Data for Training and Testing...\")\n",
    "\n",
    "X_train, X_test, y_train, y_test = train_test_split(\n",
    "    X, y, test_size=0.2, random_state=42, stratify=y\n",
    ")\n",
    "\n",
    "print(f\"Training set: {X_train.shape}\")\n",
    "print(f\"Test set: {X_test.shape}\")\n",
    "print(f\"Training churn rate: {y_train.mean():.3f}\")\n",
    "print(f\"Test churn rate: {y_test.mean():.3f}\")\n",
    "\n",
    "# Scale features for neural networks\n",
    "scaler = StandardScaler()\n",
    "X_train_scaled = scaler.fit_transform(X_train)\n",
    "X_test_scaled = scaler.transform(X_test)\n",
    "\n",
    "print(\"\\n✅ Data preparation completed!\")"
   ]
  },
  {
   "cell_type": "code",
   "execution_count": 6,
   "metadata": {
    "execution": {
     "iopub.execute_input": "2025-08-30T15:54:05.201879Z",
     "iopub.status.busy": "2025-08-30T15:54:05.201385Z",
     "iopub.status.idle": "2025-08-30T15:54:05.212852Z",
     "shell.execute_reply": "2025-08-30T15:54:05.211324Z"
    }
   },
   "outputs": [
    {
     "name": "stdout",
     "output_type": "stream",
     "text": [
      "🤖 Initializing ML Models...\n",
      "✅ Initialized 4 models:\n",
      "  • XGBoost\n",
      "  • LightGBM\n",
      "  • Random Forest\n",
      "  • Neural Network\n"
     ]
    }
   ],
   "source": [
    "# Initialize Models\n",
    "print(\"🤖 Initializing ML Models...\")\n",
    "\n",
    "models = {}\n",
    "\n",
    "# XGBoost with GPU acceleration\n",
    "models['XGBoost'] = xgb.XGBClassifier(\n",
    "    objective='binary:logistic',\n",
    "    tree_method='gpu_hist',  # GPU acceleration\n",
    "    n_estimators=200,\n",
    "    max_depth=8,\n",
    "    learning_rate=0.1,\n",
    "    subsample=0.8,\n",
    "    colsample_bytree=0.8,\n",
    "    random_state=42,\n",
    "    eval_metric='auc'\n",
    ")\n",
    "\n",
    "# LightGBM with GPU acceleration\n",
    "models['LightGBM'] = lgb.LGBMClassifier(\n",
    "    objective='binary',\n",
    "    boosting_type='gbdt',\n",
    "    num_leaves=31,\n",
    "    learning_rate=0.1,\n",
    "    feature_fraction=0.8,\n",
    "    bagging_fraction=0.8,\n",
    "    device='gpu',  # GPU acceleration\n",
    "    random_state=42,\n",
    "    n_estimators=200,\n",
    "    verbose=-1\n",
    ")\n",
    "\n",
    "# Random Forest\n",
    "models['Random Forest'] = RandomForestClassifier(\n",
    "    n_estimators=100,\n",
    "    max_depth=10,\n",
    "    min_samples_split=5,\n",
    "    min_samples_leaf=2,\n",
    "    max_features='sqrt',\n",
    "    bootstrap=True,\n",
    "    n_jobs=-1,\n",
    "    random_state=42\n",
    ")\n",
    "\n",
    "# Neural Network\n",
    "models['Neural Network'] = MLPClassifier(\n",
    "    hidden_layer_sizes=(64, 32, 16),\n",
    "    activation='relu',\n",
    "    solver='adam',\n",
    "    alpha=0.001,\n",
    "    batch_size=256,\n",
    "    learning_rate='adaptive',\n",
    "    max_iter=500,\n",
    "    random_state=42\n",
    ")\n",
    "\n",
    "print(f\"✅ Initialized {len(models)} models:\")\n",
    "for name in models.keys():\n",
    "    print(f\"  • {name}\")"
   ]
  },
  {
   "cell_type": "code",
   "execution_count": 7,
   "metadata": {
    "execution": {
     "iopub.execute_input": "2025-08-30T15:54:05.216643Z",
     "iopub.status.busy": "2025-08-30T15:54:05.216419Z",
     "iopub.status.idle": "2025-08-30T15:54:43.805535Z",
     "shell.execute_reply": "2025-08-30T15:54:43.805209Z"
    }
   },
   "outputs": [
    {
     "name": "stdout",
     "output_type": "stream",
     "text": [
      "🚀 Training Individual Models...\n",
      "==================================================\n",
      "\n",
      "🔄 Training XGBoost...\n"
     ]
    },
    {
     "name": "stdout",
     "output_type": "stream",
     "text": [
      "✅ XGBoost Results:\n",
      "   AUC: 0.9621\n",
      "   Accuracy: 0.9467\n",
      "   Precision: 0.8384\n",
      "   Recall: 0.6412\n",
      "   F1-Score: 0.7267\n",
      "\n",
      "🔄 Training LightGBM...\n",
      "❌ Error training LightGBM: No OpenCL device found\n",
      "\n",
      "🔄 Training Random Forest...\n"
     ]
    },
    {
     "name": "stdout",
     "output_type": "stream",
     "text": [
      "✅ Random Forest Results:\n",
      "   AUC: 0.8611\n",
      "   Accuracy: 0.8948\n",
      "   Precision: 0.9565\n",
      "   Recall: 0.0494\n",
      "   F1-Score: 0.0940\n",
      "\n",
      "🔄 Training Neural Network...\n"
     ]
    },
    {
     "name": "stdout",
     "output_type": "stream",
     "text": [
      "✅ Neural Network Results:\n",
      "   AUC: 0.8798\n",
      "   Accuracy: 0.9173\n",
      "   Precision: 0.7438\n",
      "   Recall: 0.3828\n",
      "   F1-Score: 0.5054\n",
      "\n",
      "🎉 Individual model training completed!\n"
     ]
    }
   ],
   "source": [
    "# Train Individual Models\n",
    "print(\"🚀 Training Individual Models...\")\n",
    "print(\"=\"*50)\n",
    "\n",
    "model_results = {}\n",
    "trained_models = {}\n",
    "\n",
    "for name, model in models.items():\n",
    "    print(f\"\\n🔄 Training {name}...\")\n",
    "    \n",
    "    try:\n",
    "        # Train model\n",
    "        if name in ['XGBoost', 'LightGBM', 'Random Forest']:\n",
    "            # Tree-based models don't need scaling\n",
    "            model.fit(X_train, y_train)\n",
    "            y_pred_proba = model.predict_proba(X_test)[:, 1]\n",
    "            y_pred = model.predict(X_test)\n",
    "        else:\n",
    "            # Neural networks need scaled features\n",
    "            model.fit(X_train_scaled, y_train)\n",
    "            y_pred_proba = model.predict_proba(X_test_scaled)[:, 1]\n",
    "            y_pred = model.predict(X_test_scaled)\n",
    "        \n",
    "        # Calculate metrics\n",
    "        auc_score = roc_auc_score(y_test, y_pred_proba)\n",
    "        accuracy = accuracy_score(y_test, y_pred)\n",
    "        precision = precision_score(y_test, y_pred)\n",
    "        recall = recall_score(y_test, y_pred)\n",
    "        f1 = f1_score(y_test, y_pred)\n",
    "        \n",
    "        # Store results\n",
    "        model_results[name] = {\n",
    "            'AUC': auc_score,\n",
    "            'Accuracy': accuracy,\n",
    "            'Precision': precision,\n",
    "            'Recall': recall,\n",
    "            'F1-Score': f1\n",
    "        }\n",
    "        \n",
    "        trained_models[name] = model\n",
    "        \n",
    "        print(f\"✅ {name} Results:\")\n",
    "        print(f\"   AUC: {auc_score:.4f}\")\n",
    "        print(f\"   Accuracy: {accuracy:.4f}\")\n",
    "        print(f\"   Precision: {precision:.4f}\")\n",
    "        print(f\"   Recall: {recall:.4f}\")\n",
    "        print(f\"   F1-Score: {f1:.4f}\")\n",
    "        \n",
    "    except Exception as e:\n",
    "        print(f\"❌ Error training {name}: {e}\")\n",
    "        model_results[name] = {\n",
    "            'AUC': 0.0, 'Accuracy': 0.0, 'Precision': 0.0, 'Recall': 0.0, 'F1-Score': 0.0\n",
    "        }\n",
    "\n",
    "print(\"\\n🎉 Individual model training completed!\")"
   ]
  },
  {
   "cell_type": "code",
   "execution_count": 8,
   "metadata": {
    "execution": {
     "iopub.execute_input": "2025-08-30T15:54:43.807882Z",
     "iopub.status.busy": "2025-08-30T15:54:43.807382Z",
     "iopub.status.idle": "2025-08-30T15:54:43.812566Z",
     "shell.execute_reply": "2025-08-30T15:54:43.812230Z"
    }
   },
   "outputs": [
    {
     "name": "stdout",
     "output_type": "stream",
     "text": [
      "🤖 Initializing ML Models...\n",
      "✅ Initialized 4 models:\n",
      "  • XGBoost\n",
      "  • LightGBM\n",
      "  • Random Forest\n",
      "  • Neural Network\n"
     ]
    }
   ],
   "source": [
    "# Initialize Models\n",
    "print(\"🤖 Initializing ML Models...\")\n",
    "\n",
    "models = {}\n",
    "\n",
    "# XGBoost with GPU acceleration\n",
    "models['XGBoost'] = xgb.XGBClassifier(\n",
    "    objective='binary:logistic',\n",
    "    tree_method='gpu_hist',  # GPU acceleration\n",
    "    n_estimators=200,\n",
    "    max_depth=8,\n",
    "    learning_rate=0.1,\n",
    "    subsample=0.8,\n",
    "    colsample_bytree=0.8,\n",
    "    random_state=42,\n",
    "    eval_metric='auc'\n",
    ")\n",
    "\n",
    "# LightGBM with CPU (fixed OpenCL issue)\n",
    "models['LightGBM'] = lgb.LGBMClassifier(\n",
    "    objective='binary',\n",
    "    boosting_type='gbdt',\n",
    "    num_leaves=31,\n",
    "    learning_rate=0.1,\n",
    "    feature_fraction=0.8,\n",
    "    bagging_fraction=0.8,\n",
    "    device='cpu',           # Changed from 'gpu' to 'cpu'\n",
    "    force_col_wise=True,    # Added to avoid OpenCL issues\n",
    "    random_state=42,\n",
    "    n_estimators=200,\n",
    "    verbose=-1\n",
    ")\n",
    "\n",
    "# Random Forest\n",
    "models['Random Forest'] = RandomForestClassifier(\n",
    "    n_estimators=100,\n",
    "    max_depth=10,\n",
    "    min_samples_split=5,\n",
    "    min_samples_leaf=2,\n",
    "    max_features='sqrt',\n",
    "    bootstrap=True,\n",
    "    n_jobs=-1,\n",
    "    random_state=42\n",
    ")\n",
    "\n",
    "# Neural Network\n",
    "models['Neural Network'] = MLPClassifier(\n",
    "    hidden_layer_sizes=(64, 32, 16),\n",
    "    activation='relu',\n",
    "    solver='adam',\n",
    "    alpha=0.001,\n",
    "    batch_size=256,\n",
    "    learning_rate='adaptive',\n",
    "    max_iter=500,\n",
    "    random_state=42\n",
    ")\n",
    "\n",
    "print(f\"✅ Initialized {len(models)} models:\")\n",
    "for name in models.keys():\n",
    "    print(f\"  • {name}\")\n"
   ]
  },
  {
   "cell_type": "code",
   "execution_count": 9,
   "metadata": {
    "execution": {
     "iopub.execute_input": "2025-08-30T15:54:43.814484Z",
     "iopub.status.busy": "2025-08-30T15:54:43.814027Z",
     "iopub.status.idle": "2025-08-30T15:54:44.059862Z",
     "shell.execute_reply": "2025-08-30T15:54:44.059194Z"
    }
   },
   "outputs": [
    {
     "name": "stdout",
     "output_type": "stream",
     "text": [
      "📊 Model Performance Comparison\n",
      "==================================================\n",
      "\n",
      "📈 Model Performance Summary:\n",
      "                   AUC  Accuracy  Precision  Recall  F1-Score\n",
      "XGBoost         0.9621    0.9467     0.8384  0.6412    0.7267\n",
      "LightGBM        0.0000    0.0000     0.0000  0.0000    0.0000\n",
      "Random Forest   0.8611    0.8948     0.9565  0.0494    0.0940\n",
      "Neural Network  0.8798    0.9173     0.7438  0.3828    0.5054\n",
      "\n",
      "🏆 Best Model: XGBoost (AUC: 0.9621)\n"
     ]
    },
    {
     "data": {
      "image/png": "[encoded data removed]",
      "text/plain": [
       "<Figure size 1080x864 with 4 Axes>"
      ]
     },
     "metadata": {
      "needs_background": "light"
     },
     "output_type": "display_data"
    }
   ],
   "source": [
    "# Model Performance Comparison\n",
    "print(\"📊 Model Performance Comparison\")\n",
    "print(\"=\"*50)\n",
    "\n",
    "# Create results DataFrame\n",
    "results_df = pd.DataFrame(model_results).T\n",
    "results_df = results_df.round(4)\n",
    "\n",
    "print(\"\\n📈 Model Performance Summary:\")\n",
    "print(results_df)\n",
    "\n",
    "# Find best model\n",
    "best_model_name = results_df['AUC'].idxmax()\n",
    "best_auc = results_df.loc[best_model_name, 'AUC']\n",
    "\n",
    "print(f\"\\n🏆 Best Model: {best_model_name} (AUC: {best_auc:.4f})\")\n",
    "\n",
    "# Visualize model comparison\n",
    "fig, axes = plt.subplots(2, 2, figsize=(15, 12))\n",
    "fig.suptitle('Model Performance Comparison', fontsize=16, fontweight='bold')\n",
    "\n",
    "metrics = ['AUC', 'Accuracy', 'Precision', 'Recall']\n",
    "colors = ['skyblue', 'orange', 'green', 'red']\n",
    "\n",
    "for i, (metric, color) in enumerate(zip(metrics, colors)):\n",
    "    ax = axes[i//2, i%2]\n",
    "    bars = ax.bar(results_df.index, results_df[metric], alpha=0.7, color=color)\n",
    "    ax.set_title(f'{metric} Comparison')\n",
    "    ax.set_ylabel(metric)\n",
    "    ax.tick_params(axis='x', rotation=45)\n",
    "    \n",
    "    # Add value labels on bars\n",
    "    for bar, value in zip(bars, results_df[metric]):\n",
    "        ax.text(bar.get_x() + bar.get_width()/2, bar.get_height() + 0.01, \n",
    "                f'{value:.3f}', ha='center', va='bottom', fontweight='bold')\n",
    "\n",
    "plt.tight_layout()\n",
    "plt.show()"
   ]
  },
  {
   "cell_type": "code",
   "execution_count": 10,
   "metadata": {
    "execution": {
     "iopub.execute_input": "2025-08-30T15:54:44.061341Z",
     "iopub.status.busy": "2025-08-30T15:54:44.061193Z",
     "iopub.status.idle": "2025-08-30T15:54:44.232935Z",
     "shell.execute_reply": "2025-08-30T15:54:44.232420Z"
    }
   },
   "outputs": [
    {
     "name": "stdout",
     "output_type": "stream",
     "text": [
      "📈 ROC Curve Analysis\n",
      "==============================\n"
     ]
    },
    {
     "data": {
      "image/png": "[encoded data removed]",
      "text/plain": [
       "<Figure size 864x576 with 1 Axes>"
      ]
     },
     "metadata": {
      "needs_background": "light"
     },
     "output_type": "display_data"
    }
   ],
   "source": [
    "# ROC Curve Comparison\n",
    "print(\"📈 ROC Curve Analysis\")\n",
    "print(\"=\"*30)\n",
    "\n",
    "plt.figure(figsize=(12, 8))\n",
    "\n",
    "# Plot ROC curves for all models\n",
    "for name, model in trained_models.items():\n",
    "    if name in model_results and model_results[name]['AUC'] > 0:\n",
    "        # Get predictions\n",
    "        if name in ['XGBoost', 'LightGBM', 'Random Forest']:\n",
    "            y_pred_proba = model.predict_proba(X_test)[:, 1]\n",
    "        else:\n",
    "            y_pred_proba = model.predict_proba(X_test_scaled)[:, 1]\n",
    "        \n",
    "        # Calculate ROC curve\n",
    "        fpr, tpr, _ = roc_curve(y_test, y_pred_proba)\n",
    "        auc = model_results[name]['AUC']\n",
    "        \n",
    "        # Plot\n",
    "        plt.plot(fpr, tpr, linewidth=2, label=f'{name} (AUC = {auc:.3f})')\n",
    "\n",
    "# Plot diagonal line\n",
    "plt.plot([0, 1], [0, 1], 'k--', linewidth=1, label='Random Classifier')\n",
    "\n",
    "plt.xlabel('False Positive Rate')\n",
    "plt.ylabel('True Positive Rate')\n",
    "plt.title('ROC Curves Comparison', fontsize=16, fontweight='bold')\n",
    "plt.legend()\n",
    "plt.grid(True, alpha=0.3)\n",
    "plt.show()"
   ]
  },
  {
   "cell_type": "code",
   "execution_count": null,
   "metadata": {},
   "outputs": [],
   "source": []
  },
  {
   "cell_type": "code",
   "execution_count": 11,
   "metadata": {
    "execution": {
     "iopub.execute_input": "2025-08-30T15:54:44.234394Z",
     "iopub.status.busy": "2025-08-30T15:54:44.234244Z",
     "iopub.status.idle": "2025-08-30T15:54:44.372869Z",
     "shell.execute_reply": "2025-08-30T15:54:44.372426Z"
    }
   },
   "outputs": [
    {
     "name": "stdout",
     "output_type": "stream",
     "text": [
      "🎯 Feature Importance Analysis\n",
      "========================================\n",
      "\n",
      "📊 Top 15 Most Important Features:\n",
      "                      XGBoost  Random Forest  Average\n",
      "Day_Revenue_Rate       0.0352         0.0593   0.0473\n",
      "Day Mins               0.0329         0.0573   0.0451\n",
      "Day Charge             0.0275         0.0423   0.0349\n",
      "VMail Message          0.0459         0.0231   0.0345\n",
      "Total_Charges          0.0329         0.0350   0.0340\n",
      "Total_Minutes          0.0248         0.0371   0.0310\n",
      "Eve_Revenue_Rate       0.0272         0.0316   0.0294\n",
      "Has_Voicemail          0.0390         0.0167   0.0278\n",
      "Day_Usage_Ratio        0.0191         0.0341   0.0266\n",
      "Eve Charge             0.0219         0.0302   0.0260\n",
      "Churn_Risk_Score       0.0273         0.0233   0.0253\n",
      "Night_Usage_Ratio      0.0198         0.0305   0.0252\n",
      "Intl Mins              0.0262         0.0239   0.0251\n",
      "Is_High_Service_User   0.0448         0.0049   0.0248\n",
      "Night_Revenue_Rate     0.0197         0.0296   0.0247\n"
     ]
    },
    {
     "data": {
      "image/png": "[encoded data removed]",
      "text/plain": [
       "<Figure size 864x720 with 1 Axes>"
      ]
     },
     "metadata": {
      "needs_background": "light"
     },
     "output_type": "display_data"
    }
   ],
   "source": [
    "# Feature Importance Analysis\n",
    "print(\"🎯 Feature Importance Analysis\")\n",
    "print(\"=\"*40)\n",
    "\n",
    "# Get feature importance from tree-based models\n",
    "feature_importance = {}\n",
    "\n",
    "for name in ['XGBoost', 'LightGBM', 'Random Forest']:\n",
    "    if name in trained_models:\n",
    "        model = trained_models[name]\n",
    "        if hasattr(model, 'feature_importances_'):\n",
    "            importance = model.feature_importances_\n",
    "            feature_importance[name] = dict(zip(feature_columns, importance))\n",
    "\n",
    "# Create feature importance DataFrame\n",
    "if feature_importance:\n",
    "    importance_df = pd.DataFrame(feature_importance)\n",
    "    importance_df['Average'] = importance_df.mean(axis=1)\n",
    "    importance_df = importance_df.sort_values('Average', ascending=False)\n",
    "    \n",
    "    print(\"\\n📊 Top 15 Most Important Features:\")\n",
    "    print(importance_df.head(15).round(4))\n",
    "    \n",
    "    # Plot feature importance\n",
    "    plt.figure(figsize=(12, 10))\n",
    "    top_features = importance_df.head(15)\n",
    "    \n",
    "    y_pos = np.arange(len(top_features))\n",
    "    \n",
    "    # Fixed color issue - use colormap properly\n",
    "    colors = plt.cm.viridis(np.linspace(0, 1, len(top_features)))\n",
    "    plt.barh(y_pos, top_features['Average'], alpha=0.7, color=colors)\n",
    "    \n",
    "    plt.yticks(y_pos, top_features.index)\n",
    "    plt.xlabel('Average Feature Importance')\n",
    "    plt.title('Top 15 Feature Importance (Average across Tree Models)', fontsize=14, fontweight='bold')\n",
    "    plt.gca().invert_yaxis()\n",
    "    \n",
    "    # Add value labels\n",
    "    for i, v in enumerate(top_features['Average']):\n",
    "        plt.text(v + 0.001, i, f'{v:.3f}', va='center')\n",
    "    \n",
    "    plt.tight_layout()\n",
    "    plt.show()\n"
   ]
  },
  {
   "cell_type": "code",
   "execution_count": 12,
   "metadata": {
    "execution": {
     "iopub.execute_input": "2025-08-30T15:54:44.374271Z",
     "iopub.status.busy": "2025-08-30T15:54:44.374148Z",
     "iopub.status.idle": "2025-08-30T15:54:51.958913Z",
     "shell.execute_reply": "2025-08-30T15:54:51.958265Z"
    }
   },
   "outputs": [
    {
     "name": "stdout",
     "output_type": "stream",
     "text": [
      "🎭 Creating Ensemble Model\n",
      "========================================\n",
      "Selected 2 models for ensemble:\n",
      "  • xgboost\n",
      "  • random_forest\n",
      "\n",
      "🚀 Training Ensemble Model...\n"
     ]
    },
    {
     "name": "stderr",
     "output_type": "stream",
     "text": [
      "/usr/lib/python3/dist-packages/scipy/__init__.py:146: UserWarning: A NumPy version >=1.17.3 and <1.25.0 is required for this version of SciPy (detected version 1.26.4\n",
      "  warnings.warn(f\"A NumPy version >={np_minversion} and <{np_maxversion}\"\n",
      "/usr/lib/python3/dist-packages/scipy/__init__.py:146: UserWarning: A NumPy version >=1.17.3 and <1.25.0 is required for this version of SciPy (detected version 1.26.4\n",
      "  warnings.warn(f\"A NumPy version >={np_minversion} and <{np_maxversion}\"\n"
     ]
    },
    {
     "name": "stderr",
     "output_type": "stream",
     "text": [
      "/home/reddy007/.local/lib/python3.10/site-packages/joblib/externals/cloudpickle/cloudpickle.py:1303: UserWarning: [21:24:51] WARNING: /workspace/src/common/error_msg.cc:27: The tree method `gpu_hist` is deprecated since 2.0.0. To use GPU training, set the `device` parameter to CUDA instead.\n",
      "\n",
      "    E.g. tree_method = \"hist\", device = \"cuda\"\n",
      "\n",
      "  return super().dump(obj)\n"
     ]
    },
    {
     "name": "stdout",
     "output_type": "stream",
     "text": [
      "\n",
      "🎉 Ensemble Model Results:\n",
      "   AUC: 0.9471\n",
      "   Accuracy: 0.9182\n",
      "   Precision: 0.8745\n",
      "   Recall: 0.3828\n",
      "   F1-Score: 0.4496\n",
      "✅ Ensemble model created successfully!\n"
     ]
    }
   ],
   "source": [
    "# Create Ensemble Model\n",
    "print(\"🎭 Creating Ensemble Model\")\n",
    "print(\"=\"*40)\n",
    "\n",
    "from sklearn.ensemble import VotingClassifier\n",
    "\n",
    "# Select best performing models for ensemble\n",
    "ensemble_models = []\n",
    "for name, model in trained_models.items():\n",
    "    if name in ['XGBoost', 'LightGBM', 'Random Forest'] and model_results[name]['AUC'] > 0.7:\n",
    "        ensemble_models.append((name.lower().replace(' ', '_'), model))\n",
    "\n",
    "print(f\"Selected {len(ensemble_models)} models for ensemble:\")\n",
    "for name, _ in ensemble_models:\n",
    "    print(f\"  • {name}\")\n",
    "\n",
    "# Create Voting Classifier\n",
    "if len(ensemble_models) >= 2:\n",
    "    ensemble_classifier = VotingClassifier(\n",
    "        estimators=ensemble_models,\n",
    "        voting='soft',  # Use probability predictions\n",
    "        n_jobs=-1\n",
    "    )\n",
    "    \n",
    "    print(\"\\n🚀 Training Ensemble Model...\")\n",
    "    ensemble_classifier.fit(X_train, y_train)\n",
    "    \n",
    "    # Evaluate ensemble\n",
    "    ensemble_pred_proba = ensemble_classifier.predict_proba(X_test)[:, 1]\n",
    "    ensemble_pred = ensemble_classifier.predict(X_test)\n",
    "    \n",
    "    ensemble_auc = roc_auc_score(y_test, ensemble_pred_proba)\n",
    "    ensemble_accuracy = accuracy_score(y_test, ensemble_pred)\n",
    "    ensemble_precision = precision_score(y_test, ensemble_pred)\n",
    "    ensemble_recall = recall_score(y_test, y_pred)\n",
    "    ensemble_f1 = f1_score(y_test, ensemble_pred)\n",
    "    \n",
    "    print(f\"\\n🎉 Ensemble Model Results:\")\n",
    "    print(f\"   AUC: {ensemble_auc:.4f}\")\n",
    "    print(f\"   Accuracy: {ensemble_accuracy:.4f}\")\n",
    "    print(f\"   Precision: {ensemble_precision:.4f}\")\n",
    "    print(f\"   Recall: {ensemble_recall:.4f}\")\n",
    "    print(f\"   F1-Score: {ensemble_f1:.4f}\")\n",
    "    \n",
    "    # Add ensemble results to comparison\n",
    "    model_results['Ensemble'] = {\n",
    "        'AUC': ensemble_auc,\n",
    "        'Accuracy': ensemble_accuracy,\n",
    "        'Precision': ensemble_precision,\n",
    "        'Recall': ensemble_recall,\n",
    "        'F1-Score': ensemble_f1\n",
    "    }\n",
    "    \n",
    "    trained_models['Ensemble'] = ensemble_classifier\n",
    "    \n",
    "    print(\"✅ Ensemble model created successfully!\")\n",
    "else:\n",
    "    print(\"❌ Not enough good models for ensemble creation\")"
   ]
  },
  {
   "cell_type": "code",
   "execution_count": 13,
   "metadata": {
    "execution": {
     "iopub.execute_input": "2025-08-30T15:54:51.960744Z",
     "iopub.status.busy": "2025-08-30T15:54:51.960460Z",
     "iopub.status.idle": "2025-08-30T15:54:52.048570Z",
     "shell.execute_reply": "2025-08-30T15:54:52.047894Z"
    }
   },
   "outputs": [
    {
     "name": "stdout",
     "output_type": "stream",
     "text": [
      "🏆 Final Model Performance Comparison\n",
      "==================================================\n",
      "\n",
      "📊 Final Performance Summary:\n",
      "                   AUC  Accuracy  Precision  Recall  F1-Score\n",
      "XGBoost         0.9621    0.9467     0.8384  0.6412    0.7267\n",
      "LightGBM        0.0000    0.0000     0.0000  0.0000    0.0000\n",
      "Random Forest   0.8611    0.8948     0.9565  0.0494    0.0940\n",
      "Neural Network  0.8798    0.9173     0.7438  0.3828    0.5054\n",
      "Ensemble        0.9471    0.9182     0.8745  0.3828    0.4496\n",
      "\n",
      "🥇 Best Final Model: XGBoost (AUC: 0.9621)\n",
      "\n",
      "📈 Ensemble Improvement:\n",
      "   Best Individual AUC: 0.9621\n",
      "   Ensemble AUC: 0.9471\n",
      "   Improvement: -1.56%\n"
     ]
    },
    {
     "data": {
      "image/png": "[encoded data removed]",
      "text/plain": [
       "<Figure size 864x576 with 1 Axes>"
      ]
     },
     "metadata": {
      "needs_background": "light"
     },
     "output_type": "display_data"
    }
   ],
   "source": [
    "# Final Model Comparison with Ensemble\n",
    "print(\"🏆 Final Model Performance Comparison\")\n",
    "print(\"=\"*50)\n",
    "\n",
    "# Update results DataFrame\n",
    "final_results_df = pd.DataFrame(model_results).T\n",
    "final_results_df = final_results_df.round(4)\n",
    "\n",
    "print(\"\\n📊 Final Performance Summary:\")\n",
    "print(final_results_df)\n",
    "\n",
    "# Find best final model\n",
    "best_final_model = final_results_df['AUC'].idxmax()\n",
    "best_final_auc = final_results_df.loc[best_final_model, 'AUC']\n",
    "\n",
    "print(f\"\\n🥇 Best Final Model: {best_final_model} (AUC: {best_final_auc:.4f})\")\n",
    "\n",
    "# Performance improvement analysis\n",
    "if 'Ensemble' in model_results:\n",
    "    individual_best_auc = max([score['AUC'] for name, score in model_results.items() if name != 'Ensemble'])\n",
    "    ensemble_auc = model_results['Ensemble']['AUC']\n",
    "    improvement = ((ensemble_auc - individual_best_auc) / individual_best_auc) * 100\n",
    "    \n",
    "    print(f\"\\n📈 Ensemble Improvement:\")\n",
    "    print(f\"   Best Individual AUC: {individual_best_auc:.4f}\")\n",
    "    print(f\"   Ensemble AUC: {ensemble_auc:.4f}\")\n",
    "    print(f\"   Improvement: {improvement:.2f}%\")\n",
    "\n",
    "# Visualize final comparison\n",
    "plt.figure(figsize=(12, 8))\n",
    "bars = plt.bar(final_results_df.index, final_results_df['AUC'], \n",
    "               alpha=0.7, color=plt.cm.viridis(np.linspace(0, 1, len(final_results_df))))\n",
    "plt.title('Final Model AUC Comparison', fontsize=16, fontweight='bold')\n",
    "plt.ylabel('AUC Score')\n",
    "plt.xticks(rotation=45)\n",
    "\n",
    "# Highlight best model\n",
    "best_idx = list(final_results_df.index).index(best_final_model)\n",
    "bars[best_idx].set_color('gold')\n",
    "bars[best_idx].set_edgecolor('red')\n",
    "bars[best_idx].set_linewidth(2)\n",
    "\n",
    "# Add value labels\n",
    "for bar, value in zip(bars, final_results_df['AUC']):\n",
    "    plt.text(bar.get_x() + bar.get_width()/2, bar.get_height() + 0.01, \n",
    "             f'{value:.3f}', ha='center', va='bottom', fontweight='bold')\n",
    "\n",
    "plt.tight_layout()\n",
    "plt.show()"
   ]
  },
  {
   "cell_type": "code",
   "execution_count": 14,
   "metadata": {
    "execution": {
     "iopub.execute_input": "2025-08-30T15:54:52.050556Z",
     "iopub.status.busy": "2025-08-30T15:54:52.050276Z",
     "iopub.status.idle": "2025-08-30T15:54:52.157306Z",
     "shell.execute_reply": "2025-08-30T15:54:52.156652Z"
    }
   },
   "outputs": [
    {
     "name": "stdout",
     "output_type": "stream",
     "text": [
      "📊 Detailed Analysis of Best Model: XGBoost\n",
      "============================================================\n"
     ]
    },
    {
     "data": {
      "image/png": "[encoded data removed]",
      "text/plain": [
       "<Figure size 576x432 with 2 Axes>"
      ]
     },
     "metadata": {
      "needs_background": "light"
     },
     "output_type": "display_data"
    },
    {
     "name": "stdout",
     "output_type": "stream",
     "text": [
      "\n",
      "📋 Classification Report - XGBoost:\n",
      "              precision    recall  f1-score   support\n",
      "\n",
      "    No Churn       0.96      0.98      0.97     10754\n",
      "       Churn       0.84      0.64      0.73      1335\n",
      "\n",
      "    accuracy                           0.95     12089\n",
      "   macro avg       0.90      0.81      0.85     12089\n",
      "weighted avg       0.94      0.95      0.94     12089\n",
      "\n",
      "\n",
      "💼 Business Impact Analysis:\n",
      "========================================\n",
      "Total Test Customers: 12,089\n",
      "Actual Churners: 1,335\n",
      "Predicted Churners: 1,021\n",
      "Correctly Identified Churners: 856\n",
      "False Alarms: 165\n",
      "Missed Churners: 479\n",
      "\n",
      "Potential Revenue Saved: $101,142.26\n",
      "Intervention Costs: $12,063.81\n",
      "Net Business Benefit: $89,078.44\n",
      "ROI: 738.4%\n"
     ]
    }
   ],
   "source": [
    "# Confusion Matrix for Best Model\n",
    "print(f\"📊 Detailed Analysis of Best Model: {best_final_model}\")\n",
    "print(\"=\"*60)\n",
    "\n",
    "# Get best model predictions\n",
    "best_model = trained_models[best_final_model]\n",
    "\n",
    "if best_final_model == 'Neural Network':\n",
    "    y_pred_best = best_model.predict(X_test_scaled)\n",
    "    y_pred_proba_best = best_model.predict_proba(X_test_scaled)[:, 1]\n",
    "else:\n",
    "    y_pred_best = best_model.predict(X_test)\n",
    "    y_pred_proba_best = best_model.predict_proba(X_test)[:, 1]\n",
    "\n",
    "# Confusion Matrix\n",
    "cm = confusion_matrix(y_test, y_pred_best)\n",
    "\n",
    "plt.figure(figsize=(8, 6))\n",
    "sns.heatmap(cm, annot=True, fmt='d', cmap='Blues', \n",
    "            xticklabels=['No Churn', 'Churn'], \n",
    "            yticklabels=['No Churn', 'Churn'])\n",
    "plt.title(f'Confusion Matrix - {best_final_model}', fontsize=14, fontweight='bold')\n",
    "plt.ylabel('True Label')\n",
    "plt.xlabel('Predicted Label')\n",
    "plt.show()\n",
    "\n",
    "# Classification Report\n",
    "print(f\"\\n📋 Classification Report - {best_final_model}:\")\n",
    "print(classification_report(y_test, y_pred_best, target_names=['No Churn', 'Churn']))\n",
    "\n",
    "# Business Impact Analysis\n",
    "print(\"\\n💼 Business Impact Analysis:\")\n",
    "print(\"=\"*40)\n",
    "\n",
    "# Calculate business metrics\n",
    "total_customers = len(y_test)\n",
    "actual_churners = y_test.sum()\n",
    "predicted_churners = y_pred_best.sum()\n",
    "true_positives = ((y_test == 1) & (y_pred_best == 1)).sum()\n",
    "false_positives = ((y_test == 0) & (y_pred_best == 1)).sum()\n",
    "false_negatives = ((y_test == 1) & (y_pred_best == 0)).sum()\n",
    "\n",
    "# Assuming average customer value and intervention cost\n",
    "avg_customer_value = df['Total_Charges'].mean()\n",
    "intervention_cost = avg_customer_value * 0.1  # 10% of customer value\n",
    "\n",
    "# Calculate potential savings\n",
    "customers_saved = true_positives\n",
    "total_savings = customers_saved * avg_customer_value\n",
    "total_intervention_cost = predicted_churners * intervention_cost\n",
    "net_benefit = total_savings - total_intervention_cost\n",
    "roi = (net_benefit / total_intervention_cost) * 100 if total_intervention_cost > 0 else 0\n",
    "\n",
    "print(f\"Total Test Customers: {total_customers:,}\")\n",
    "print(f\"Actual Churners: {actual_churners:,}\")\n",
    "print(f\"Predicted Churners: {predicted_churners:,}\")\n",
    "print(f\"Correctly Identified Churners: {true_positives:,}\")\n",
    "print(f\"False Alarms: {false_positives:,}\")\n",
    "print(f\"Missed Churners: {false_negatives:,}\")\n",
    "print(f\"\\nPotential Revenue Saved: ${total_savings:,.2f}\")\n",
    "print(f\"Intervention Costs: ${total_intervention_cost:,.2f}\")\n",
    "print(f\"Net Business Benefit: ${net_benefit:,.2f}\")\n",
    "print(f\"ROI: {(net_benefit/total_intervention_cost)*100:.1f}%\" if total_intervention_cost > 0 else \"ROI: N/A\")"
   ]
  },
  {
   "cell_type": "code",
   "execution_count": 15,
   "metadata": {
    "execution": {
     "iopub.execute_input": "2025-08-30T15:54:52.159376Z",
     "iopub.status.busy": "2025-08-30T15:54:52.159213Z",
     "iopub.status.idle": "2025-08-30T15:54:53.087169Z",
     "shell.execute_reply": "2025-08-30T15:54:53.085497Z"
    }
   },
   "outputs": [
    {
     "name": "stdout",
     "output_type": "stream",
     "text": [
      "💾 Saving Trained Models and Results...\n"
     ]
    },
    {
     "name": "stdout",
     "output_type": "stream",
     "text": [
      "✅ Saved best model: XGBoost\n"
     ]
    },
    {
     "name": "stdout",
     "output_type": "stream",
     "text": [
      "✅ Saved ensemble model\n",
      "✅ Saved feature scaler\n",
      "✅ Saved feature columns\n",
      "✅ Saved model results and analysis\n",
      "\n",
      "🎉 MODEL TRAINING COMPLETED SUCCESSFULLY!\n",
      "============================================================\n",
      "\n",
      "📊 TRAINING SUMMARY:\n",
      "• Models Trained: 4\n",
      "• Best Model: XGBoost\n",
      "• Best AUC Score: 0.9621\n",
      "• Training Samples: 48,356\n",
      "• Test Samples: 12,089\n",
      "• Features Used: 44\n",
      "\n",
      "🎯 BUSINESS IMPACT:\n",
      "• Customers Correctly Identified: 856\n",
      "• Potential Revenue Saved: $101,142.26\n",
      "• Net Business Benefit: $89,078.44\n",
      "• ROI: 738.4%\n",
      "\n",
      "📁 SAVED ARTIFACTS:\n",
      "• Best Model: ../models/best_model_xgboost.pkl\n",
      "• Ensemble Model: ../models/ensemble_model.pkl\n",
      "• Feature Scaler: ../models/scaler.pkl\n",
      "• Feature Columns: ../models/feature_columns.pkl\n",
      "• Results Report: ../outputs/reports/model_results.json\n",
      "\n",
      "🚀 NEXT STEPS:\n",
      "1. Deploy model to production dashboard\n",
      "2. Implement real-time prediction pipeline\n",
      "3. Set up model monitoring and retraining\n",
      "4. Create business intelligence reports\n",
      "5. Design targeted intervention campaigns\n",
      "\n",
      "✅ Training summary saved to ../outputs/reports/training_summary.txt\n",
      "\n",
      "🎉 Customer segmentation analysis completed successfully!\n"
     ]
    }
   ],
   "source": [
    "# Save Models and Results\n",
    "print(\"💾 Saving Trained Models and Results...\")\n",
    "\n",
    "import os\n",
    "os.makedirs('../models', exist_ok=True)\n",
    "os.makedirs('../outputs/reports', exist_ok=True)\n",
    "\n",
    "# Save best model\n",
    "joblib.dump(best_model, f'../models/best_model_{best_final_model.lower().replace(\" \", \"_\")}.pkl')\n",
    "print(f\"✅ Saved best model: {best_final_model}\")\n",
    "\n",
    "# Save ensemble model if created\n",
    "if 'Ensemble' in trained_models:\n",
    "    joblib.dump(trained_models['Ensemble'], '../models/ensemble_model.pkl')\n",
    "    print(\"✅ Saved ensemble model\")\n",
    "\n",
    "# Save scaler\n",
    "joblib.dump(scaler, '../models/scaler.pkl')\n",
    "print(\"✅ Saved feature scaler\")\n",
    "\n",
    "# Save feature columns\n",
    "joblib.dump(feature_columns, '../models/feature_columns.pkl')\n",
    "print(\"✅ Saved feature columns\")\n",
    "\n",
    "# Save model results\n",
    "import json\n",
    "with open('../outputs/reports/model_results.json', 'w') as f:\n",
    "    json.dump({\n",
    "        'model_performance': model_results,\n",
    "        'best_model': best_final_model,\n",
    "        'best_auc': float(best_final_auc),\n",
    "        'feature_importance': importance_df.to_dict() if 'importance_df' in locals() else {},\n",
    "        'business_impact': {\n",
    "            'total_customers': int(total_customers),\n",
    "            'customers_saved': int(customers_saved),\n",
    "            'net_benefit': float(net_benefit),\n",
    "            'roi_percentage': float((net_benefit/total_intervention_cost)*100) if total_intervention_cost > 0 else 0\n",
    "        }\n",
    "    }, f, indent=2)\n",
    "\n",
    "print(\"✅ Saved model results and analysis\")\n",
    "\n",
    "# Create model summary\n",
    "model_summary = f\"\"\"\n",
    "🎉 MODEL TRAINING COMPLETED SUCCESSFULLY!\n",
    "============================================================\n",
    "\n",
    "📊 TRAINING SUMMARY:\n",
    "• Models Trained: {len(models)}\n",
    "• Best Model: {best_final_model}\n",
    "• Best AUC Score: {best_final_auc:.4f}\n",
    "• Training Samples: {X_train.shape[0]:,}\n",
    "• Test Samples: {X_test.shape[0]:,}\n",
    "• Features Used: {len(feature_columns)}\n",
    "\n",
    "🎯 BUSINESS IMPACT:\n",
    "• Customers Correctly Identified: {customers_saved:,}\n",
    "• Potential Revenue Saved: ${total_savings:,.2f}\n",
    "• Net Business Benefit: ${net_benefit:,.2f}\n",
    "• ROI: {(net_benefit/total_intervention_cost)*100:.1f}%\n",
    "\n",
    "📁 SAVED ARTIFACTS:\n",
    "• Best Model: ../models/best_model_{best_final_model.lower().replace(\" \", \"_\")}.pkl\n",
    "• Ensemble Model: ../models/ensemble_model.pkl\n",
    "• Feature Scaler: ../models/scaler.pkl\n",
    "• Feature Columns: ../models/feature_columns.pkl\n",
    "• Results Report: ../outputs/reports/model_results.json\n",
    "\n",
    "🚀 NEXT STEPS:\n",
    "1. Deploy model to production dashboard\n",
    "2. Implement real-time prediction pipeline\n",
    "3. Set up model monitoring and retraining\n",
    "4. Create business intelligence reports\n",
    "5. Design targeted intervention campaigns\n",
    "\"\"\"\n",
    "\n",
    "print(model_summary)\n",
    "\n",
    "# Save summary to file\n",
    "with open('../outputs/reports/training_summary.txt', 'w') as f:\n",
    "    f.write(model_summary)\n",
    "\n",
    "print(\"✅ Training summary saved to ../outputs/reports/training_summary.txt\")\n",
    "print(\"\\n🎉 Customer segmentation analysis completed successfully!\")"
   ]
  },
  {
   "cell_type": "code",
   "execution_count": null,
   "metadata": {},
   "outputs": [],
   "source": []
  },
  {
   "cell_type": "code",
   "execution_count": null,
   "metadata": {},
   "outputs": [],
   "source": []
  },
  {
   "cell_type": "code",
   "execution_count": null,
   "metadata": {},
   "outputs": [],
   "source": []
  },
  {
   "cell_type": "code",
   "execution_count": null,
   "metadata": {},
   "outputs": [],
   "source": []
  }
 ],
 "metadata": {
  "kernelspec": {
   "display_name": "Python 3 (ipykernel)",
   "language": "python",
   "name": "python3"
  },
  "language_info": {
   "codemirror_mode": {
    "name": "ipython",
    "version": 3
   },
   "file_extension": ".py",
   "mimetype": "text/x-python",
   "name": "python",
   "nbconvert_exporter": "python",
   "pygments_lexer": "ipython3",
   "version": "3.10.12"
  }
 },
 "nbformat": 4,
 "nbformat_minor": 4
}
